{
 "cells": [
  {
   "cell_type": "code",
   "execution_count": null,
   "id": "8fef447a",
   "metadata": {},
   "outputs": [],
   "source": [
    "#importando a base de dados\n",
    "import pandas as pd\n",
    "\n",
    "tabela=pd.read_csv('telecom_users.csv')\n",
    " \n",
    "\n",
    "#Excluir colunas inuteis\n",
    "tabela = tabela.drop(\"Unnamed: 0\",axis=1)#usar o nome da coluna axis=1(para coluna) ou o numero da linha axis=0(para linha)\n",
    "\n",
    "#exibir a base\n",
    "display(tabela)#display apenas para o jupyter\n",
    "\n"
   ]
  },
  {
   "cell_type": "markdown",
   "id": "0169dc11",
   "metadata": {},
   "source": [
    "O 'r' na frente do arquivo para importação da base de dados não é obrigatorio quando se esta com a base na mesma pasta onde está se desenvolvendo o codigo, mas sim opcional. E quando se está com a base na mesma pasta não se tem a necessidade de colocar o caminho todo do diretorio do arquivo, apenas o nome do mesmo entre aspas simples ou dupla.\n",
    "Churn> Termo usado por empresas para indicar se um cliente fez o cancelamento de um serviço prestado \"Sim\" ou \"Não\"\n",
    "NaN> sem dados informados na celula\n",
    "Drop> metodo do PANDAS para retirar um item da tabela - tabela= pd.drop(\"nome da coluna que se quer dopar\",\n",
    "eixo(local onde a coluna está, axis=0-linha,axis=1-coluna))\n",
    "    para escluir uma linha> tabela=pd.drop(3(numero da linha que se dejada excluir), axis=0(para representar o eixo da linha))\n",
    "\n",
    "Ordem de coisas que devem ser feitas antes de começar a Analise dos dados:\n",
    "1º Importar a base de dados\n",
    "2º Excluir as colunas inuteis\n",
    "3º Verificar se os dados estão no formato correto e corrigir os mesmo\n",
    "4º Excluir linhas/colunas que estão vazias\n",
    "    tabela=tabela.dropna(how=(all, para todo/any, para uma),axis=0 ou 1)\n",
    "5º Inicio das analises dos dados\n",
    "    Problema proposto: Descobrir os problemas que estão gerando cancelamentos\n",
    "6º Criar e exibir o grafico\n",
    "7º \n"
   ]
  },
  {
   "cell_type": "code",
   "execution_count": null,
   "id": "81001383",
   "metadata": {},
   "outputs": [],
   "source": [
    "#Tratamento dos dados\n",
    "\n",
    "#Verificar se os dados estão no formato correto\n",
    "print(tabela.info())#para exibir os dados da tabela, para analisar se estão no formato correto\n",
    "\n",
    "#"
   ]
  },
  {
   "cell_type": "code",
   "execution_count": null,
   "id": "ff73e4d4",
   "metadata": {},
   "outputs": [],
   "source": [
    "#Tratamento dos dados\n",
    "\n",
    "#ajustar o TotalGasto\n",
    "#tabela[\"TotalGasto\"] = pd.to_numeric(tabela[\"TotalGasto\"])#transformar os dados do tipo String em numero, mas se tiver algum erro ele trava\n",
    "tabela[\"TotalGasto\"] = pd.to_numeric(tabela[\"TotalGasto\"], errors=\"coerce\")#força que os erros encontrados sejam forçados a virar um numerico, com isso aba se tornado \"0\"\n",
    "\n",
    "print(tabela.info())\n"
   ]
  },
  {
   "cell_type": "code",
   "execution_count": null,
   "id": "1b807ebc",
   "metadata": {},
   "outputs": [],
   "source": [
    "#Informaçõe vazias\n",
    "\n",
    "#colunas vazias = Excluir\n",
    "tabela=tabela.dropna(how=\"all\",axis=1)#dropna vai procurar os valores vazios existentes \"NaN\",\"all\" vai tirar toda a colunas ques estão completamente vazias\n",
    "\n",
    "#linhas que tem algum valor vazio =Excluir\n",
    "tabela=tabela.dropna(how=\"any\",axis=0)#dropna vai procurar os valores vazios existentes \"NaN\",\"any\" vai tirar toda a informação das linhas que tenha no minimo uma informação vazia\n",
    "\n",
    "\n",
    "\n",
    "print(tabela.info())"
   ]
  },
  {
   "cell_type": "code",
   "execution_count": null,
   "id": "095c8b12",
   "metadata": {},
   "outputs": [],
   "source": [
    "#Analise inicial dos dados\n",
    "\n",
    "#Saber quantos são os dados da coluna \"Churn\"\n",
    "#com numeros inteiros\n",
    "print(tabela[\"Churn\"].value_counts())# para somar a quantidade de cada item da coluna\n",
    "\n",
    "#com porcentagem\n",
    "print(tabela[\"Churn\"].value_counts(normalize=True))\n",
    "\n",
    "#com porcentagem e formatado\n",
    "print(tabela[\"Churn\"].value_counts(normalize=True).map(\"{:.1%}\".format))"
   ]
  },
  {
   "cell_type": "code",
   "execution_count": null,
   "id": "e0391383",
   "metadata": {},
   "outputs": [],
   "source": [
    "#Descobrir possiveis problemas de cancelamento\n",
    "#importar o plotly que é a biblioteca para desenvolver graficos\n",
    "import plotly.express as px\n",
    "\n",
    "#1º criar o grafico\n",
    "coluna=\"MesesComoCliente\"\n",
    "grafico = px.histogram(tabela,x=coluna,color=\"Churn\",)#x= coluna que quer analizar, color= colunar que quer comparar\n",
    "#2ºexibi o grafico\n",
    "grafico.show()"
   ]
  },
  {
   "cell_type": "code",
   "execution_count": null,
   "id": "735d0f0d",
   "metadata": {},
   "outputs": [],
   "source": [
    "#Criando um for para criar todos os graficos da base de dados\n",
    "\n",
    "for coluna in tabela.columns:\n",
    "    grafico = px.histogram(tabela,x=coluna,color=\"Churn\",)\n",
    "    grafico.show()\n",
    "    "
   ]
  },
  {
   "cell_type": "markdown",
   "id": "de904c36",
   "metadata": {},
   "source": [
    "#Concluções\n",
    "1º Clientes que estão a pouco tempo de assinatura tendem a cancelar mais\n",
    "    - Pode tá tendo promoção do 1º mês de graça\n",
    "    - Primeira experiencia do cliente pode está ruim e ou confusa\n",
    "Quantos mais serviços o cliente tem menos a chance dele de cancelar\n",
    "    - Com isso incentivar promoções para fazer com que clientes possam aderir mais serviços\n"
   ]
  }
 ],
 "metadata": {
  "kernelspec": {
   "display_name": "Python 3 (ipykernel)",
   "language": "python",
   "name": "python3"
  },
  "language_info": {
   "codemirror_mode": {
    "name": "ipython",
    "version": 3
   },
   "file_extension": ".py",
   "mimetype": "text/x-python",
   "name": "python",
   "nbconvert_exporter": "python",
   "pygments_lexer": "ipython3",
   "version": "3.9.12"
  }
 },
 "nbformat": 4,
 "nbformat_minor": 5
}
